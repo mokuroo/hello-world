{
 "cells": [
  {
   "cell_type": "code",
   "execution_count": 1,
   "metadata": {
    "collapsed": true
   },
   "outputs": [],
   "source": [
    "from nltk.stem import PorterStemmer\n",
    "from nltk.tokenize import sent_tokenize, word_tokenize\n",
    "\n",
    "ps = PorterStemmer()\n",
    "new_text = \"It is important to by very pythonly while you are pythoning with python. All pythoners have pythoned poorly at least once.\"\n",
    "words = word_tokenize(new_text)\n"
   ]
  },
  {
   "cell_type": "code",
   "execution_count": 1,
   "metadata": {
    "collapsed": true
   },
   "outputs": [],
   "source": [
    "def pre_train_data(train_dir):\n",
    "    for root,dirs,files in os.walk(train_dir):\n",
    "        for name in dirs:\n",
    "            subdirpath=os.path.join(root,name)\n",
    "            if name=='ham':\n",
    "                ham_emails=[os.path.join(subdirpath,f) for f in os.listdir(subdirpath)]\n",
    "                ham_size=len(os.listdir(subdirpath))\n",
    "            elif name=='spam':\n",
    "                spam_emails=[os.path.join(subdirpath,f) for f in os.listdir(subdirpath)]\n",
    "                spam_size=len(os.listdir(subdirpath))\n",
    "\n",
    "    emails=ham_emails+spam_emails\n",
    "    train_size=ham_size+spam_size\n",
    "    train_labels=np.zeros(train_size,dtype=np.int)\n",
    "    train_labels[ham_size:]=1\n",
    "    return emails,train_labels\n",
    "    \n",
    "        "
   ]
  },
  {
   "cell_type": "code",
   "execution_count": 2,
   "metadata": {
    "collapsed": true
   },
   "outputs": [],
   "source": [
    "def pre_test_data(test_dir):\n",
    "    txtIDs=[]\n",
    "    emails=[]\n",
    "    for file in os.listdir(test_dir):\n",
    "        txtID=file[11:-4]\n",
    "        txtIDs.append(int(txtID))\n",
    "        emails.append(os.path.join(test_dir,file))\n",
    "    #print(txtIDs)\n",
    "    #print(emails)\n",
    "    sorted_emails = [x for _,x in sorted(zip(txtIDs,emails))]\n",
    "    #print(sorted_emails)\n",
    "    return sorted_emails"
   ]
  },
  {
   "cell_type": "code",
   "execution_count": 3,
   "metadata": {},
   "outputs": [
    {
     "ename": "SyntaxError",
     "evalue": "invalid syntax (<ipython-input-3-0ed5557dc6d1>, line 21)",
     "output_type": "error",
     "traceback": [
      "\u001b[1;36m  File \u001b[1;32m\"<ipython-input-3-0ed5557dc6d1>\"\u001b[1;36m, line \u001b[1;32m21\u001b[0m\n\u001b[1;33m    dictionary=dictionary.\u001b[0m\n\u001b[1;37m                                  ^\u001b[0m\n\u001b[1;31mSyntaxError\u001b[0m\u001b[1;31m:\u001b[0m invalid syntax\n"
     ]
    }
   ],
   "source": [
    "import os\n",
    "import numpy as np\n",
    "from nltk.stem import PorterStemmer\n",
    "from nltk.tokenize import sent_tokenize, word_tokenize\n",
    "\n",
    "def make_Dictionary(train_emails):\n",
    "    all_words=[]\n",
    "    for email in train_emails:\n",
    "#         with open(email,mode=\"r\",encoding='ISO-8859-1') as m:\n",
    "        with open(email,'rb') as m:  \n",
    "            for i, line in enumerate(m):\n",
    "                words=line.split()\n",
    "                all_words+=words\n",
    "    dictionary=Counter(all_words)\n",
    "    list_to_remove=dictionary.keys()\n",
    "    for item in list(list_to_remove):\n",
    "        if item.isalpha()==False:\n",
    "            del dictionary[item]\n",
    "        elif len(item)==1:\n",
    "            del dictionary[item]\n",
    "    dictionary=dictionary.        \n",
    "    dictionary = dictionary.most_common(3000)\n",
    "    return dictionary"
   ]
  },
  {
   "cell_type": "code",
   "execution_count": 6,
   "metadata": {
    "collapsed": true
   },
   "outputs": [],
   "source": [
    "import os\n",
    "import numpy as np\n",
    "from nltk.stem import PorterStemmer\n",
    "from nltk.tokenize import sent_tokenize, word_tokenize\n",
    "\n",
    "\n",
    "ps = PorterStemmer()\n",
    "def make_Dictionary2(train_emails):\n",
    "    all_words=[]\n",
    "    ps = PorterStemmer()\n",
    "    for email in train_emails:\n",
    "        ##with open(email,mode=\"r\",encoding='ISO-8859-1') as m:\n",
    "        with open(email,'rb') as m:          \n",
    "            data=m.read().replace('\\n', '')\n",
    "#             data=m.read()\n",
    "            words = word_tokenize(data)\n",
    "            for w in words:\n",
    "                w=ps.stem(w)\n",
    "            all_words+=words\n",
    "    dictionary=Counter(all_words)\n",
    "    list_to_remove=dictionary.keys()\n",
    "    for item in list(list_to_remove):\n",
    "        if item.isalpha()==False:\n",
    "            del dictionary[item]\n",
    "        elif len(item)==1:\n",
    "            del dictionary[item]\n",
    "        \n",
    "    dictionary = dictionary.most_common(3000)\n",
    "    return dictionary"
   ]
  },
  {
   "cell_type": "code",
   "execution_count": 7,
   "metadata": {
    "collapsed": true
   },
   "outputs": [],
   "source": [
    "def extract_features(train_emails):\n",
    "    features_matrix=np.zeros((len(train_emails),3000))\n",
    "    txtID=0\n",
    "    for fil in train_emails:\n",
    "        #with open(fil, mode=\"r\",encoding='ISO-8859-1') as fi:\n",
    "        with open(fil,'rb') as fi:\n",
    "            all_words=[]\n",
    "            data=fi.read().replace('\\n', '')\n",
    "            words = word_tokenize(data)\n",
    "            for w in words:\n",
    "                w=ps.stem(w)\n",
    "            all_words+=words\n",
    "#             all_words=[]\n",
    "#             words = word_tokenize(m)\n",
    "#             all_words+=words\n",
    "#             for line in fi:\n",
    "#                 words=line.split()\n",
    "#                 all_words+=words\n",
    "        \n",
    "            for i,d in enumerate(dictionary):\n",
    "                if d[0] in all_words:\n",
    "                    wordID=i\n",
    "                    features_matrix[txtID,wordID]=all_words.count(d[0])\n",
    "            txtID=txtID+1\n",
    "    return features_matrix"
   ]
  },
  {
   "cell_type": "code",
   "execution_count": 8,
   "metadata": {},
   "outputs": [],
   "source": [
    "#from io import open\n",
    "import os \n",
    "import numpy as np\n",
    "from collections import Counter\n",
    "from sklearn.naive_bayes import MultinomialNB, GaussianNB, BernoulliNB\n",
    "from sklearn.svm import SVC, NuSVC, LinearSVC\n",
    "from sklearn.metrics import confusion_matrix\n",
    "from sklearn.ensemble import RandomForestClassifier\n",
    "import csv\n",
    "import sys  \n",
    "\n",
    "reload(sys)  \n",
    "sys.setdefaultencoding('ISO-8859-1')\n",
    "\n",
    "#train_dir='/Users/caixiuhong/Dropbox/Caiprivate/machine learning/email_classification_data/train_data'\n",
    "train_dir='./hw3data/train_data'\n",
    "train_emails,train_labels=pre_train_data(train_dir)\n",
    "test_dir='./hw3data/test_data'\n",
    "test_emails = pre_test_data(test_dir)\n",
    "\n",
    "\n",
    "dictionary=make_Dictionary2(train_emails)\n",
    "train_matrix=extract_features(train_emails)\n",
    "test_matrix=extract_features(test_emails)\n",
    "print('finish')"
   ]
  },
  {
   "cell_type": "code",
   "execution_count": 13,
   "metadata": {
    "collapsed": true
   },
   "outputs": [],
   "source": [
    "model2=MultinomialNB()\n",
    "# model2=SVC(kernel='linear', gamma=2)\n",
    "# model1.fit(train_matrix, train_labels)\n",
    "model2.fit(train_matrix,train_labels)\n",
    "\n",
    "\n",
    "\n",
    "#test_dir='/Users/caixiuhong/Dropbox/Caiprivate/machine learning/email_classification_data/test_data'\n",
    "\n",
    "#test_labels=np.zeros(len(test_emails))\n",
    "#test_labels[130:360]=1\n",
    "#print(sum(test_matrix==1))\n",
    "# result1=model1.predict(test_matrix)\n",
    "result2=model2.predict(test_matrix)\n",
    "\n",
    "# for email_id, labels in enumerate(result1):\n",
    "#     print(email_id+1, labels)"
   ]
  },
  {
   "cell_type": "code",
   "execution_count": 14,
   "metadata": {
    "collapsed": true
   },
   "outputs": [],
   "source": [
    "out = open('result2.csv', \"wb\")\n",
    "out.write(\"email_id,labels\\n\")\n",
    "\n",
    "rows = ['']*result2.shape[0] # predefine or use append\n",
    "for num in range(0, result2.shape[0]):\n",
    "    label = 0 #TODO; classify here\n",
    "    rows[num] = \"%d,%d\\n\"%(num+1,result2[num])\n",
    "\n",
    "out.writelines(rows)\n",
    "out.close()"
   ]
  },
  {
   "cell_type": "code",
   "execution_count": null,
   "metadata": {
    "collapsed": true
   },
   "outputs": [],
   "source": []
  }
 ],
 "metadata": {
  "kernelspec": {
   "display_name": "Python 2",
   "language": "python",
   "name": "python2"
  },
  "language_info": {
   "codemirror_mode": {
    "name": "ipython",
    "version": 2
   },
   "file_extension": ".py",
   "mimetype": "text/x-python",
   "name": "python",
   "nbconvert_exporter": "python",
   "pygments_lexer": "ipython2",
   "version": "2.7.13"
  }
 },
 "nbformat": 4,
 "nbformat_minor": 2
}
